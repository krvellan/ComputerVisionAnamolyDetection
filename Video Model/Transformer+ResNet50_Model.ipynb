{
  "nbformat": 4,
  "nbformat_minor": 0,
  "metadata": {
    "colab": {
      "provenance": [],
      "machine_shape": "hm"
    },
    "kernelspec": {
      "name": "python3",
      "display_name": "Python 3"
    },
    "language_info": {
      "name": "python"
    },
    "accelerator": "GPU",
    "gpuClass": "premium"
  },
  "cells": [
    {
      "cell_type": "code",
      "source": [
        "import torch\n",
        "import torch.nn as nn\n",
        "import torchvision.models as models\n",
        "import torchvision.transforms as transforms\n",
        "import cv2"
      ],
      "metadata": {
        "id": "am9lDNC0u7PS"
      },
      "execution_count": null,
      "outputs": []
    },
    {
      "cell_type": "code",
      "source": [
        "# Import necessary libraries\n",
        "import tensorflow as tf\n",
        "from tensorflow.keras.layers import Input, Dense, Flatten\n",
        "from tensorflow.keras.models import Model\n",
        "from tensorflow.keras.optimizers import Adam\n",
        "from tensorflow.keras.preprocessing.image import ImageDataGenerator\n"
      ],
      "metadata": {
        "id": "iPw9DAZC2d_r"
      },
      "execution_count": null,
      "outputs": []
    },
    {
      "cell_type": "code",
      "source": [
        "# Set up the data generators\n",
        "train_data_dir = '/content/drive/MyDrive/298 Project/train_data'\n",
        "val_data_dir = '/content/drive/MyDrive/298 Project/val_data'\n",
        "batch_size = 32\n",
        "img_height = 224\n",
        "img_width = 224\n",
        "\n",
        "train_datagen = ImageDataGenerator(rescale=1./255,\n",
        "                                   shear_range=0.2,\n",
        "                                   zoom_range=0.2,\n",
        "                                   horizontal_flip=True)\n",
        "\n",
        "val_datagen = ImageDataGenerator(rescale=1./255)\n",
        "\n",
        "train_generator = train_datagen.flow_from_directory(train_data_dir,\n",
        "                                                    target_size=(img_height, img_width),\n",
        "                                                    batch_size=batch_size,\n",
        "                                                    class_mode='binary')\n",
        "\n",
        "val_generator = val_datagen.flow_from_directory(val_data_dir,\n",
        "                                                target_size=(img_height, img_width),\n",
        "                                                batch_size=batch_size,\n",
        "                                                class_mode='binary')"
      ],
      "metadata": {
        "colab": {
          "base_uri": "https://localhost:8080/"
        },
        "id": "WoBPgU0G2kej",
        "outputId": "b49f78f7-4520-4039-94ec-fd5046e823e8"
      },
      "execution_count": null,
      "outputs": [
        {
          "output_type": "stream",
          "name": "stdout",
          "text": [
            "Found 467 images belonging to 2 classes.\n",
            "Found 131 images belonging to 2 classes.\n"
          ]
        }
      ]
    },
    {
      "cell_type": "code",
      "source": [
        "\n",
        "# Define the model\n",
        "def create_model():\n",
        "    input_layer = Input(shape=(img_height, img_width, 3))\n",
        "    backbone = tf.keras.applications.ResNet50(include_top=False, input_tensor=input_layer)\n",
        "    x = backbone.output\n",
        "    x = tf.keras.layers.GlobalAveragePooling2D()(x)\n",
        "    x = Dense(128, activation='relu')(x)\n",
        "    predictions = Dense(1, activation='sigmoid')(x)\n",
        "    model = Model(inputs=input_layer, outputs=predictions)\n",
        "    return model\n",
        "\n",
        "model = create_model()"
      ],
      "metadata": {
        "colab": {
          "base_uri": "https://localhost:8080/"
        },
        "id": "2SbZQiXx29RK",
        "outputId": "9df2cf05-1da8-4e5d-c0b4-5bdb313c0f94"
      },
      "execution_count": null,
      "outputs": [
        {
          "output_type": "stream",
          "name": "stdout",
          "text": [
            "Downloading data from https://storage.googleapis.com/tensorflow/keras-applications/resnet/resnet50_weights_tf_dim_ordering_tf_kernels_notop.h5\n",
            "94765736/94765736 [==============================] - 3s 0us/step\n"
          ]
        }
      ]
    },
    {
      "cell_type": "code",
      "source": [
        "# Compile the model\n",
        "optimizer = Adam(lr=0.0001)\n",
        "model.compile(optimizer=optimizer, loss='binary_crossentropy', metrics=['accuracy'])"
      ],
      "metadata": {
        "colab": {
          "base_uri": "https://localhost:8080/"
        },
        "id": "5lQihi4d3FyC",
        "outputId": "5ff7bfcc-f1ac-43e8-a008-dd6b0afb856d"
      },
      "execution_count": null,
      "outputs": [
        {
          "output_type": "stream",
          "name": "stderr",
          "text": [
            "WARNING:absl:`lr` is deprecated in Keras optimizer, please use `learning_rate` or use the legacy optimizer, e.g.,tf.keras.optimizers.legacy.Adam.\n"
          ]
        }
      ]
    },
    {
      "cell_type": "code",
      "source": [
        "# Train the model\n",
        "epochs = 100\n",
        "steps_per_epoch = train_generator.n // batch_size\n",
        "val_steps = val_generator.n // batch_size\n",
        "history = model.fit(train_generator,\n",
        "                    steps_per_epoch=steps_per_epoch,\n",
        "                    epochs=epochs,\n",
        "                    validation_data=val_generator,\n",
        "                    validation_steps=val_steps)"
      ],
      "metadata": {
        "colab": {
          "base_uri": "https://localhost:8080/"
        },
        "id": "NZegqGyYkcY6",
        "outputId": "d2fe6ad5-2271-47c0-e316-892b1868e045"
      },
      "execution_count": null,
      "outputs": [
        {
          "output_type": "stream",
          "name": "stdout",
          "text": [
            "Epoch 1/10\n",
            "14/14 [==============================] - 165s 9s/step - loss: 0.1452 - accuracy: 0.9494 - val_loss: 2017.1316 - val_accuracy: 0.3906\n",
            "Epoch 2/10\n",
            "14/14 [==============================] - 13s 934ms/step - loss: 0.0337 - accuracy: 0.9885 - val_loss: 9777.7744 - val_accuracy: 0.6016\n",
            "Epoch 3/10\n",
            "14/14 [==============================] - 13s 932ms/step - loss: 0.0078 - accuracy: 1.0000 - val_loss: 432.2095 - val_accuracy: 0.6094\n",
            "Epoch 4/10\n",
            "14/14 [==============================] - 13s 960ms/step - loss: 0.0315 - accuracy: 0.9977 - val_loss: 33.0219 - val_accuracy: 0.3906\n",
            "Epoch 5/10\n",
            "14/14 [==============================] - 13s 954ms/step - loss: 0.1705 - accuracy: 0.9885 - val_loss: 1360074.2500 - val_accuracy: 0.3984\n",
            "Epoch 6/10\n",
            "14/14 [==============================] - 13s 924ms/step - loss: 0.1018 - accuracy: 0.9885 - val_loss: 8450821.0000 - val_accuracy: 0.4062\n",
            "Epoch 7/10\n",
            "14/14 [==============================] - 13s 946ms/step - loss: 0.0343 - accuracy: 0.9954 - val_loss: 197471.5000 - val_accuracy: 0.3984\n",
            "Epoch 8/10\n",
            "14/14 [==============================] - 14s 981ms/step - loss: 0.0394 - accuracy: 0.9978 - val_loss: 1003.7957 - val_accuracy: 0.6016\n",
            "Epoch 9/10\n",
            "14/14 [==============================] - 13s 978ms/step - loss: 0.0169 - accuracy: 0.9977 - val_loss: 7070.9380 - val_accuracy: 0.3984\n",
            "Epoch 10/10\n",
            "14/14 [==============================] - 13s 963ms/step - loss: 0.0087 - accuracy: 0.9977 - val_loss: 1814.6941 - val_accuracy: 0.3828\n"
          ]
        }
      ]
    },
    {
      "cell_type": "code",
      "source": [
        "import torch\n",
        "import torch.nn as nn\n",
        "import torch.optim as optim\n",
        "from torch.utils.data import DataLoader\n",
        "\n",
        "# Define hyperparameters\n",
        "batch_size = 32\n",
        "learning_rate = 1e-3\n",
        "num_epochs = 10\n",
        "\n",
        "# Load the dataset\n",
        "dataset = MyDataset(\"/content/drive/MyDrive/298 Project/dataset.csv\")\n",
        "\n",
        "# Define the data loader\n",
        "dataloader = DataLoader(dataset, batch_size=batch_size, shuffle=True)\n",
        "\n",
        "# Define the model\n",
        "model = MyTransformerModel().to(device)\n",
        "\n",
        "# Define the loss function and optimizer\n",
        "criterion = nn.MSELoss()\n",
        "optimizer = optim.Adam(model.parameters(), lr=learning_rate)\n",
        "\n",
        "# Train the model\n",
        "for epoch in range(num_epochs):\n",
        "    for batch in dataloader:\n",
        "        # Get inputs and targets for this batch\n",
        "        inputs = batch['image'].to(device)\n",
        "        locations = batch['location'].to(device)\n",
        "        timestamps = batch['timestamp'].to(device)\n",
        "        targets = batch['target'].to(device)\n",
        "\n",
        "        # Zero the gradients\n",
        "        optimizer.zero_grad()\n",
        "\n",
        "        # Forward pass\n",
        "        outputs = model(inputs, locations, timestamps)\n",
        "\n",
        "        # Compute loss\n",
        "        loss = criterion(outputs, targets)\n",
        "\n",
        "        # Backward pass and optimization\n",
        "        loss.backward()\n",
        "        optimizer.step()\n",
        "\n",
        "    # Print progress\n",
        "    print(f\"Epoch {epoch+1}/{num_epochs}, Loss: {loss.item()}\")\n",
        "\n",
        "# Save the model\n",
        "model.save('/content/drive/MyDrive/298 Project/anomaly_detection_model.h5')"
      ],
      "metadata": {
        "id": "TCmWreQ-3Lgn",
        "colab": {
          "base_uri": "https://localhost:8080/"
        },
        "outputId": "b57c5da5-a35e-4fde-f429-e1273e86318e"
      },
      "execution_count": null,
      "outputs": [
        {
          "output_type": "stream",
          "name": "stdout",
          "text": [
            "Epoch 1/10\n",
            "9/9 [==============================] - 45s 955ms/step - loss: 0.1053 - accuracy: 0.9851 - val_loss: 54372.4883 - val_accuracy: 0.3984\n",
            "Epoch 2/10\n",
            "9/9 [==============================] - 8s 894ms/step - loss: 0.0302 - accuracy: 0.9888 - val_loss: 0.7583 - val_accuracy: 0.3906\n",
            "Epoch 3/10\n",
            "9/9 [==============================] - 8s 978ms/step - loss: 0.2039 - accuracy: 0.9888 - val_loss: 1775.5659 - val_accuracy: 0.3984\n",
            "Epoch 4/10\n",
            "9/9 [==============================] - 8s 902ms/step - loss: 0.0448 - accuracy: 0.9963 - val_loss: 10758.2910 - val_accuracy: 0.3906\n",
            "Epoch 5/10\n",
            "9/9 [==============================] - 8s 980ms/step - loss: 0.0428 - accuracy: 0.9963 - val_loss: 6622.2139 - val_accuracy: 0.3984\n",
            "Epoch 6/10\n",
            "9/9 [==============================] - 8s 905ms/step - loss: 0.0489 - accuracy: 0.9888 - val_loss: 115.9884 - val_accuracy: 0.3906\n",
            "Epoch 7/10\n",
            "9/9 [==============================] - 8s 868ms/step - loss: 0.0149 - accuracy: 0.9963 - val_loss: 196.6307 - val_accuracy: 0.3984\n",
            "Epoch 8/10\n",
            "9/9 [==============================] - 8s 900ms/step - loss: 0.0318 - accuracy: 0.9963 - val_loss: 15.7486 - val_accuracy: 0.6016\n",
            "Epoch 9/10\n",
            "9/9 [==============================] - 8s 907ms/step - loss: 0.0362 - accuracy: 0.9963 - val_loss: 9.1446 - val_accuracy: 0.3906\n",
            "Epoch 10/10\n",
            "9/9 [==============================] - 8s 900ms/step - loss: 0.0292 - accuracy: 0.9925 - val_loss: 8.0344 - val_accuracy: 0.3984\n"
          ]
        }
      ]
    },
    {
      "cell_type": "code",
      "source": [
        "import numpy as np\n",
        "import matplotlib.pyplot as plt"
      ],
      "metadata": {
        "id": "BfiffDBkGp9G"
      },
      "execution_count": null,
      "outputs": []
    },
    {
      "cell_type": "code",
      "source": [
        "\n",
        "plt.plot(history.history['accuracy'], label='Accuracy')\n",
        "plt.legend()\n",
        "plt.show()"
      ],
      "metadata": {
        "colab": {
          "base_uri": "https://localhost:8080/",
          "height": 430
        },
        "id": "P6MSe_nlGkLj",
        "outputId": "e18bb806-38cb-435a-f754-f14d102bba57"
      },
      "execution_count": null,
      "outputs": [
        {
          "output_type": "display_data",
          "data": {
            "text/plain": [
              "<Figure size 640x480 with 1 Axes>"
            ],
            "image/png": "[encoded data removed]"
          },
          "metadata": {}
        }
      ]
    },
    {
      "cell_type": "code",
      "source": [
        "plt.plot(history.history['loss'], label='Loss')\n",
        "plt.legend()\n",
        "plt.show()"
      ],
      "metadata": {
        "colab": {
          "base_uri": "https://localhost:8080/",
          "height": 430
        },
        "id": "3EC1easlHP-q",
        "outputId": "352f6f22-2153-4473-d8aa-5c8353a2cfde"
      },
      "execution_count": null,
      "outputs": [
        {
          "output_type": "display_data",
          "data": {
            "text/plain": [
              "<Figure size 640x480 with 1 Axes>"
            ],
            "image/png": "[encoded data removed]"
          },
          "metadata": {}
        }
      ]
    },
    {
      "cell_type": "code",
      "source": [
        "# Evaluate the model\n",
        "test_data_dir = '/content/drive/MyDrive/298 Project/test_data'\n",
        "test_datagen = ImageDataGenerator(rescale=1./255)\n",
        "test_generator = test_datagen.flow_from_directory(test_data_dir,\n",
        "                                                  target_size=(img_height, img_width),\n",
        "                                                  batch_size=batch_size,\n",
        "                                                  class_mode='binary')\n",
        "test_loss, test_acc = model.evaluate(test_generator, verbose=1)\n",
        "\n",
        "print('Test accuracy:', test_acc)"
      ],
      "metadata": {
        "colab": {
          "base_uri": "https://localhost:8080/"
        },
        "id": "mwcj5Iu0BSyD",
        "outputId": "70ba3f60-a11c-41f9-bc18-f8e86468103b"
      },
      "execution_count": null,
      "outputs": [
        {
          "output_type": "stream",
          "name": "stdout",
          "text": [
            "Found 63 images belonging to 2 classes.\n",
            "2/2 [==============================] - 1s 380ms/step - loss: 0.0000e+00 - accuracy: 1.0000\n",
            "Test accuracy: 1.0\n"
          ]
        }
      ]
    },
    {
      "cell_type": "code",
      "source": [
        "import os"
      ],
      "metadata": {
        "id": "ATCGzkRfFRu5"
      },
      "execution_count": null,
      "outputs": []
    },
    {
      "cell_type": "code",
      "source": [
        "# Predict on test set and output anomalies\n",
        "test_image_paths = test_generator.filepaths\n",
        "test_image_labels = test_generator.labels\n",
        "predictions = model.predict(test_generator)\n",
        "\n",
        "anomaly_threshold = 0.5  # adjust this threshold as needed\n"
      ],
      "metadata": {
        "colab": {
          "base_uri": "https://localhost:8080/"
        },
        "id": "Q4WvPVxeCCq2",
        "outputId": "c036397e-48bb-4f3a-8bae-8f9222a25a08"
      },
      "execution_count": null,
      "outputs": [
        {
          "output_type": "stream",
          "name": "stdout",
          "text": [
            "2/2 [==============================] - 1s 376ms/step\n"
          ]
        }
      ]
    },
    {
      "cell_type": "code",
      "source": [
        "anomaly_images = []\n",
        "for i in range(len(predictions)):\n",
        "    if predictions[i] >= anomaly_threshold and test_image_labels[i] == 0:\n",
        "        # This is an anomaly\n",
        "        anomaly_images.append(test_image_paths[i])\n",
        "\n",
        "if len(anomaly_images) > 0:\n",
        "    # Create a new directory to save the anomaly images\n",
        "    anomaly_dir = '/content/drive/MyDrive/298 Project/anomaly_images'\n",
        "    if not os.path.exists(anomaly_dir):\n",
        "        os.makedirs(anomaly_dir)"
      ],
      "metadata": {
        "id": "a8cqrDXjE_SO"
      },
      "execution_count": null,
      "outputs": []
    },
    {
      "cell_type": "code",
      "source": [
        "    # Copy the anomaly images to the new directory\n",
        "    for image_path in anomaly_images:\n",
        "        image_name = os.path.basename(image_path)\n",
        "        new_image_path = os.path.join(anomaly_dir, image_name)\n",
        "        os.rename(image_path, new_image_path)"
      ],
      "metadata": {
        "id": "6Bls4NerFNcC"
      },
      "execution_count": null,
      "outputs": []
    },
    {
      "cell_type": "code",
      "source": [
        "# Save the model\n",
        "model.save('/content/drive/MyDrive/298 Project/anomaly_detection_model.h5')"
      ],
      "metadata": {
        "id": "d8-CYRg9FWkP"
      },
      "execution_count": null,
      "outputs": []
    },
    {
      "cell_type": "code",
      "source": [],
      "metadata": {
        "id": "sxMNKcxgFm7p"
      },
      "execution_count": null,
      "outputs": []
    }
  ]
}